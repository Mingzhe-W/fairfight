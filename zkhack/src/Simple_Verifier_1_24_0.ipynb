{
  "cells": [
    {
      "cell_type": "code",
      "execution_count": null,
      "metadata": {
        "id": "gvQ5HL1bTDWF"
      },
      "outputs": [],
      "source": [
        "import pandas as pd\n",
        "from sklearn.datasets import load_iris\n",
        "from sklearn.model_selection import train_test_split\n",
        "from sklearn.metrics import accuracy_score, precision_score, recall_score\n",
        "import numpy as np\n",
        "import torch\n",
        "import torch.nn as nn\n",
        "import torch.nn.functional as F\n",
        "from torch.autograd import Variable\n",
        "import tqdm"
      ]
    },
    {
      "cell_type": "code",
      "source": [
        "# check if notebook is in colab\n",
        "try:\n",
        "    import google.colab\n",
        "    import subprocess\n",
        "    import sys\n",
        "    subprocess.check_call([sys.executable, \"-m\", \"pip\", \"install\", \"ezkl==1.24.0\"])\n",
        "    subprocess.check_call([sys.executable, \"-m\", \"pip\", \"install\", \"onnx\"])\n",
        "    subprocess.check_call([sys.executable, \"-m\", \"pip\", \"install\", \"solc-select\"])\n",
        "    subprocess.check_call([sys.executable, \"-m\", \"pip\", \"install\", \"sk2torch\"])\n",
        "    !solc-select install 0.8.20\n",
        "    !solc-select use 0.8.20\n",
        "    !solc --version\n",
        "\n",
        "# rely on local installation of ezkl if the notebook is not in colab\n",
        "except:\n",
        "    pass\n",
        "\n",
        "import os\n",
        "import json\n",
        "import ezkl as damnfair\n",
        "import sk2torch"
      ],
      "metadata": {
        "colab": {
          "base_uri": "https://localhost:8080/"
        },
        "id": "dvYw3f64hd7P",
        "outputId": "35cbd29e-f388-41c2-ac44-4c4b7f1d6eb8"
      },
      "execution_count": null,
      "outputs": [
        {
          "output_type": "stream",
          "name": "stdout",
          "text": [
            "Installing solc '0.8.20'...\n",
            "Version '0.8.20' installed.\n",
            "Switched global version to 0.8.20\n",
            "solc, the solidity compiler commandline interface\n",
            "Version: 0.8.20+commit.a1b79de6.Linux.g++\n"
          ]
        }
      ]
    },
    {
      "cell_type": "code",
      "source": [
        "folder = \"./tmp/\"\n",
        "\n",
        "# Create the directory 'tmp' in the current working directory\n",
        "try:\n",
        "    os.makedirs(folder, exist_ok=True)\n",
        "    print(f\"Directory '{folder}' created successfully\")\n",
        "except OSError as error:\n",
        "    print(f\"Directory '{folder}' cannot be created. Error: {error}\")"
      ],
      "metadata": {
        "colab": {
          "base_uri": "https://localhost:8080/"
        },
        "id": "ZGuuyUnWkgo4",
        "outputId": "90ec16ea-b059-4917-c2d6-34cd0a5befe2"
      },
      "execution_count": null,
      "outputs": [
        {
          "output_type": "stream",
          "name": "stdout",
          "text": [
            "Directory './tmp/' created successfully\n"
          ]
        }
      ]
    },
    {
      "cell_type": "markdown",
      "source": [
        "## SVC model for CIFAR10\n"
      ],
      "metadata": {
        "id": "v2-NH27ThoWt"
      }
    },
    {
      "cell_type": "code",
      "source": [
        "#from dataset import Dataset\n",
        "import time\n",
        "from keras.datasets import cifar10\n",
        "import numpy as np\n",
        "from sklearn.datasets import make_classification\n",
        "import matplotlib.pyplot as plt\n",
        "import seaborn as sns\n",
        "import random\n",
        "import sys\n",
        "\n",
        "import torch\n",
        "import torchvision\n",
        "import torchvision.transforms as transforms\n",
        "\n",
        "import torch.nn as nn\n",
        "import torch.nn.functional as F\n",
        "import torch.optim as optim\n",
        "from torch.optim.lr_scheduler import _LRScheduler\n",
        "import torch.utils.data as data\n",
        "from torch.utils.data import DataLoader, Subset\n",
        "from torch.nn.modules.loss import CrossEntropyLoss\n",
        "\n",
        "import torchvision.datasets as datasets\n",
        "\n",
        "import sklearn\n",
        "from sklearn.svm import LinearSVC\n",
        "from sklearn.svm import SVC\n",
        "from sklearn.datasets import make_classification\n",
        "from sklearn.metrics import hinge_loss\n",
        "\n",
        "import sk2torch\n",
        "\n",
        "import copy\n",
        "from copy import deepcopy\n",
        "import random\n",
        "import time\n",
        "\n",
        "import json\n",
        "import os\n",
        "from PIL import Image\n",
        "\n",
        "import tqdm"
      ],
      "metadata": {
        "id": "Y5kQ0blghz2i"
      },
      "execution_count": null,
      "outputs": []
    },
    {
      "cell_type": "code",
      "source": [
        "def compare_imgages(img1, img2, size, inv_normalize=None):\n",
        "    fig, axs = plt.subplots(1, 2, figsize=(10, 5))\n",
        "\n",
        "    # If an inverse normalization function is provided, apply it\n",
        "    if inv_normalize:\n",
        "        img_to_show = inv_normalize(img1.cpu()).permute(1, 2, 0)\n",
        "    else:\n",
        "        img_to_show = img1.numpy()\n",
        "\n",
        "    # Show original image\n",
        "    axs[0].imshow(img_to_show)  # Transpose back to HxWxC format\n",
        "    axs[0].set_title('Original Image')\n",
        "    axs[0].axis('off')\n",
        "\n",
        "    # Show normalized grayscale image\n",
        "    axs[1].imshow(img2.reshape(size,size,1), cmap='gray')\n",
        "    axs[1].set_title('Grayscale Normalized Image')\n",
        "    axs[1].axis('off')\n",
        "\n",
        "    plt.show()"
      ],
      "metadata": {
        "id": "ZLx2aUKFjgum"
      },
      "execution_count": null,
      "outputs": []
    },
    {
      "cell_type": "markdown",
      "source": [
        "### Data Prep"
      ],
      "metadata": {
        "id": "cYQ-t3PniIIL"
      }
    },
    {
      "cell_type": "code",
      "source": [
        "# Class Dictionary for CIFAR10\n",
        "classDict = {'plane': 0, 'car': 1, 'bird': 2, 'cat': 3, 'deer': 4,\n",
        "             'dog': 5, 'frog': 6, 'horse': 7, 'ship': 8, 'truck': 9}\n",
        "\n",
        "binaryClasses = {0:'Machine', 1:'Animal'} # Machine , Animal\n",
        "\n",
        "data_mean = (0.4914, 0.4822, 0.4465)\n",
        "data_std = (0.2470, 0.2435, 0.2616)"
      ],
      "metadata": {
        "id": "WLkJVrWshr3I"
      },
      "execution_count": null,
      "outputs": []
    },
    {
      "cell_type": "code",
      "source": [
        "from torch.nn.modules.transformer import TransformerDecoderLayer\n",
        "# Overwrite getitem method to obtain the index of the images when iterating through the images\n",
        "\n",
        "from torchvision import datasets, transforms\n",
        "from torch.utils.data import Dataset, DataLoader\n",
        "\n",
        "\n",
        "class CIFAR10(Dataset):\n",
        "    def __init__(self, train, transform):\n",
        "        self.cifar10 = torchvision.datasets.CIFAR10(\n",
        "                        root='./data', train=train, download=True, transform=transform)\n",
        "        self.targets = self.cifar10.targets\n",
        "        self.classes = self.cifar10.classes\n",
        "        self.data = self.cifar10.data\n",
        "\n",
        "\n",
        "    # Overloaded the getitem method to return index as well\n",
        "    def __getitem__(self, index):\n",
        "        data, target = self.cifar10[index]\n",
        "        return data, target, index\n",
        "\n",
        "    # Method to get all images' indices from a certain class without iterating through the loader\n",
        "    def get_index(self, target_label):\n",
        "      index_list = []\n",
        "      for index, label in enumerate(self.targets):\n",
        "        if label == target_label:\n",
        "          index_list.append(index)\n",
        "      return index_list\n",
        "\n",
        "    def __len__(self):\n",
        "        return len(self.cifar10)\n",
        "\n",
        "    def remove(self, remove_list):\n",
        "      mask = np.ones(len(self.cifar10), dtype=bool)\n",
        "      mask[remove_list] = False\n",
        "      data = self.data[mask]\n",
        "\n",
        "# Data Prep.\n",
        "inv_normalize = transforms.Normalize(\n",
        "   mean= [-m/s for m, s in zip(data_mean, data_std)],\n",
        "   std= [1/s for s in data_std]\n",
        ")\n",
        "\n",
        "transform_train = transforms.Compose([\n",
        "    transforms.ToTensor(),\n",
        "    transforms.Normalize(data_mean, data_std),\n",
        "])\n",
        "\n",
        "transform_test = transforms.Compose([\n",
        "    transforms.ToTensor(),\n",
        "    transforms.Normalize(data_mean, data_std),\n",
        "])\n"
      ],
      "metadata": {
        "id": "PK5PoJoahtPY"
      },
      "execution_count": null,
      "outputs": []
    },
    {
      "cell_type": "code",
      "source": [
        "trainset = CIFAR10(train=True, transform=transform_train)\n",
        "testset = CIFAR10(train=False, transform=transform_test)"
      ],
      "metadata": {
        "colab": {
          "base_uri": "https://localhost:8080/"
        },
        "id": "oPt1eIwghvSg",
        "outputId": "0371e498-448a-4816-dce6-1120cbd94b5d"
      },
      "execution_count": null,
      "outputs": [
        {
          "output_type": "stream",
          "name": "stdout",
          "text": [
            "Downloading https://www.cs.toronto.edu/~kriz/cifar-10-python.tar.gz to ./data/cifar-10-python.tar.gz\n"
          ]
        },
        {
          "output_type": "stream",
          "name": "stderr",
          "text": [
            "100%|██████████| 170498071/170498071 [00:10<00:00, 16303700.96it/s]\n"
          ]
        },
        {
          "output_type": "stream",
          "name": "stdout",
          "text": [
            "Extracting ./data/cifar-10-python.tar.gz to ./data\n",
            "Files already downloaded and verified\n"
          ]
        }
      ]
    },
    {
      "cell_type": "code",
      "source": [
        "import numpy as np\n",
        "import torch\n",
        "\n",
        "def rgb_to_gray(images):\n",
        "    # Assuming images are (C, H, W) and C=3 for RGB\n",
        "    return np.dot(images.numpy().transpose((1, 2, 0)), [0.2989, 0.5870, 0.1140])\n",
        "\n",
        "def process_dataset(dataset, label_map=[2, 3, 4, 5, 6, 7]):\n",
        "    x_processed = []\n",
        "    y_processed = []\n",
        "    img_norms = []\n",
        "    for index in range(len(dataset)):\n",
        "        # Retrieve data and target from dataset\n",
        "        data, target, _ = dataset[index]\n",
        "\n",
        "        # Convert image to grayscale\n",
        "        img_grayscale = rgb_to_gray(data)\n",
        "\n",
        "        # Normalize grayscale image\n",
        "        norm = np.linalg.norm(img_grayscale, ord=2)\n",
        "        img_normalized = img_grayscale / norm\n",
        "\n",
        "        # Store the processed image and label\n",
        "        x_processed.append(img_normalized.flatten())\n",
        "        img_norms.append(norm)\n",
        "        y_processed.append(target in label_map)\n",
        "\n",
        "    # Convert lists to numpy arrays\n",
        "    x_processed = np.array(x_processed)\n",
        "    y_processed = np.array(y_processed, dtype=np.float32)\n",
        "    img_norms = np.array(img_norms)\n",
        "\n",
        "    return x_processed, y_processed, img_norms\n",
        "\n",
        "# Process trainset and testset\n",
        "x_train, y_train, norms_train = process_dataset(trainset)\n",
        "x_test, y_test, norms_test = process_dataset(testset)\n"
      ],
      "metadata": {
        "id": "Ai8QzAQihx3g"
      },
      "execution_count": null,
      "outputs": []
    },
    {
      "cell_type": "code",
      "source": [
        "# Mannually put indices value\n",
        "indices = [6143, 1222, 5118, 1137, 9778, 7064, 7584, 1970, 877, 720, 5164, 9853, 5771, 4138, 434, 7594, 4579, 9042, 9818, 6426, 4068, 9532, 2064, 1918, 4825, 1526, 1087, 4131, 5426, 563, 3462, 2847, 930, 5831, 3553, 5589, 1766, 7841, 9831, 4858, 2133, 7795, 2412, 6380, 6046, 2045, 39, 7180, 3485, 9592, 1709, 3532, 6392, 9918, 1605, 2707, 9152, 6632, 5106, 2760, 335, 9637, 1016, 9962, 8376, 4528, 598, 9078, 8917, 4151, 5287, 6516, 5963, 968, 73, 8836, 2396, 9721, 1687, 3872, 2856, 1041, 4224, 2874, 7050, 3467, 7424, 2639, 2164, 4256, 86, 5076, 9107, 871, 6410, 8146, 2509, 4583, 4817, 7547]"
      ],
      "metadata": {
        "id": "r1e-1oYqjCA3"
      },
      "execution_count": null,
      "outputs": []
    },
    {
      "cell_type": "code",
      "source": [
        "start_time = time.time()\n",
        "\n",
        "#model_SVC = SVC(kernel = 'linear', max_iter=100, probability=True)\n",
        "SVC_model = LinearSVC(loss='hinge', max_iter=30000)\n",
        "#fit\n",
        "SVC_model.fit(x_train, y_train)\n",
        "\n",
        "print(\"Elapsed[s] : \", time.time() - start_time)\n",
        "print(\"Train :\", SVC_model.score(x_train, y_train))\n",
        "print(\"Test :\", SVC_model.score(x_test, y_test))"
      ],
      "metadata": {
        "colab": {
          "base_uri": "https://localhost:8080/"
        },
        "id": "2yYGi5mmiFm5",
        "outputId": "212315ca-1cec-40d0-ddc5-bce4fe436705"
      },
      "execution_count": null,
      "outputs": [
        {
          "output_type": "stream",
          "name": "stdout",
          "text": [
            "Elapsed[s] :  17.72296118736267\n",
            "Train : 0.72116\n",
            "Test : 0.7106\n"
          ]
        }
      ]
    },
    {
      "cell_type": "code",
      "source": [
        "import torch.nn.functional as F\n",
        "\n",
        "def compress_image(image, size):\n",
        "    # Assume image is a PyTorch tensor with shape [C, H, W]\n",
        "\n",
        "    # Add batch dimension [B, C, H, W] - B is batch size which is 1 in this case\n",
        "    image = image.unsqueeze(0)\n",
        "\n",
        "    # Calculate the kernel size, stride and padding needed for average pooling\n",
        "    kernel_size = (image.size(2) // size, image.size(3) // size)\n",
        "    stride = kernel_size\n",
        "    padding = 0\n",
        "\n",
        "    # Apply average pooling\n",
        "    compressed_image = F.avg_pool2d(image, kernel_size=kernel_size, stride=stride, padding=padding)\n",
        "\n",
        "    # Remove batch dimension and return the compressed image\n",
        "    return compressed_image.squeeze(0)\n",
        "\n",
        "def compress_process_dataset(dataset, size, label_map = [2,3,4,5,6,7]):\n",
        "    x = []\n",
        "    y = []\n",
        "\n",
        "    for img, label, _ in dataset:\n",
        "        img = compress_image(img, size)\n",
        "\n",
        "        # Convert image to grayscale\n",
        "        img_grayscale = rgb_to_gray(img)\n",
        "\n",
        "        # Normalize grayscale image by dividing by its Frobenius norm\n",
        "        norm = np.linalg.norm(img_grayscale, ord=2)\n",
        "        img_normalized = img_grayscale / norm if norm != 0 else img_grayscale\n",
        "\n",
        "        # Ensure that all values are within the range [0, 1]\n",
        "        img_normalized = np.clip(img_normalized, 0, 1)\n",
        "\n",
        "        x.append(img_normalized.flatten())\n",
        "        y.append(label in label_map)\n",
        "\n",
        "    return x,y"
      ],
      "metadata": {
        "id": "76laHe8biUwy"
      },
      "execution_count": null,
      "outputs": []
    },
    {
      "cell_type": "code",
      "source": [
        "sample_set = Subset(testset, indices)\n",
        "imgs = []\n",
        "for img, _, _ in sample_set:\n",
        "    imgs.append(img)\n",
        "size = 6\n",
        "x_test_compress, y_test_compress = compress_process_dataset(sample_set,size)\n",
        "x_train_compress, y_train_compress = compress_process_dataset(trainset, size)"
      ],
      "metadata": {
        "id": "DhLlZrxHilFc"
      },
      "execution_count": null,
      "outputs": []
    },
    {
      "cell_type": "code",
      "source": [
        "compare_imgages(imgs[5], x_test[indices[5]],32, inv_normalize)"
      ],
      "metadata": {
        "colab": {
          "base_uri": "https://localhost:8080/",
          "height": 404
        },
        "id": "HrLFKwUwim1C",
        "outputId": "cef1f519-3f50-47ad-e281-aaff2732825f"
      },
      "execution_count": null,
      "outputs": [
        {
          "output_type": "display_data",
          "data": {
            "text/plain": [
              "<Figure size 1000x500 with 2 Axes>"
            ],
            "image/png": "[encoded data removed]"
          },
          "metadata": {}
        }
      ]
    },
    {
      "cell_type": "code",
      "source": [
        "start_time = time.time()\n",
        "\n",
        "#model_SVC = SVC(kernel = 'linear', max_iter=100, probability=True)\n",
        "SVC_model_comp = LinearSVC(loss='hinge', max_iter=30000)\n",
        "#fit\n",
        "SVC_model_comp.fit(x_train_compress, y_train_compress)\n",
        "\n",
        "print(\"Elapsed[s] : \", time.time() - start_time)\n",
        "print(\"Train :\", SVC_model_comp.score(x_train_compress, y_train_compress))\n",
        "print(\"Test :\", SVC_model_comp.score(x_test_compress, y_test_compress))"
      ],
      "metadata": {
        "colab": {
          "base_uri": "https://localhost:8080/"
        },
        "id": "kc-0n6JajQI0",
        "outputId": "41f94706-8830-46ec-903e-3316166690cc"
      },
      "execution_count": null,
      "outputs": [
        {
          "output_type": "stream",
          "name": "stdout",
          "text": [
            "Elapsed[s] :  0.5776157379150391\n",
            "Train : 0.68544\n",
            "Test : 0.71\n"
          ]
        }
      ]
    },
    {
      "cell_type": "code",
      "source": [
        "folder = \"./tmp\"\n",
        "def gen_SVC_setting(model, imgs, index):\n",
        "    model_path = os.path.join(folder, 'network.onnx')\n",
        "    settings_path = os.path.join(folder, 'settings.json')\n",
        "    data_path = os.path.join(folder, 'input.json')\n",
        "    cal_data_path = os.path.join(folder, 'cal_data.json')\n",
        "\n",
        "    grayscale_img = imgs[index]\n",
        "    grayscale_img = grayscale_img.reshape(1,-1)\n",
        "    model = sk2torch.wrap(model)\n",
        "    x = torch.from_numpy(grayscale_img)\n",
        "    torch_out = model.predict(x)\n",
        "\n",
        "    # Export the model\n",
        "    torch.onnx.export(model,                     # model being run\n",
        "                    x,                         # model input (or a tuple for multiple inputs)\n",
        "                    model_path,                # where to save the model (can be a file or file-like object)\n",
        "                    export_params=True,        # store the trained parameter weights inside the model file\n",
        "                    opset_version=10,          # the ONNX version to export the model to\n",
        "                    do_constant_folding=True,  # whether to execute constant folding for optimization\n",
        "                    input_names = ['input'],   # the model's input names\n",
        "                    output_names = ['output'], # the model's output names\n",
        "                    dynamic_axes={'input' : {0 : 'batch_size'},    # variable length axes\n",
        "                                    'output' : {0 : 'batch_size'}})\n",
        "\n",
        "    d = ((x).detach().numpy()).reshape([-1]).tolist()\n",
        "\n",
        "    data = dict(input_shapes=[grayscale_img.shape[1:]],\n",
        "                input_data=[d],\n",
        "                output_data=[o.reshape([-1]).tolist() for o in torch_out])\n",
        "\n",
        "    # Serialize data into file:\n",
        "    json.dump(data, open(data_path, 'w'))\n",
        "\n",
        "    # # use the test set to calibrate the circuit\n",
        "    cal_data = dict(input_data = imgs)\n",
        "\n",
        "    # Serialize calibration data into file:\n",
        "    json.dump(data, open(cal_data_path, 'w'))\n",
        "\n",
        "    py_run_args = damnfair.PyRunArgs()\n",
        "    py_run_args.input_visibility = \"public\"\n",
        "    py_run_args.output_visibility = \"public\"\n",
        "    py_run_args.param_visibility = \"private\" # private by default\n",
        "\n",
        "    !RUST_LOG=trace\n",
        "    # TODO: Dictionary outputs\n",
        "    res = damnfair.gen_settings(model_path, settings_path, py_run_args=py_run_args)\n",
        "    assert res == True\n",
        "\n",
        "    # with open(settings_path, \"r\") as file:\n",
        "    #     setting = json.load(file)\n",
        "\n",
        "    # # Change input_visibility to Public\n",
        "    # setting['run_args']['input_visibility'] = 'Public'\n",
        "\n",
        "    # # Save it back to the file\n",
        "    # with open(settings_path, 'w') as file:\n",
        "    #     json.dump(setting, file, indent=4)\n",
        "\n",
        "\n",
        "\n",
        "\n",
        "def gen_SVC_verifier(prefix):\n",
        "    model_path = os.path.join(folder, 'network.onnx')\n",
        "    compiled_model_path = os.path.join(folder, 'network.compiled')\n",
        "    settings_path = os.path.join(folder, 'settings.json')\n",
        "    witness_path = os.path.join(folder, 'witness.json')\n",
        "    data_path = os.path.join(folder, 'input.json')\n",
        "    srs_path = os.path.join(folder, 'kzg.srs')\n",
        "\n",
        "    pk_path = os.path.join(folder, 'test.pk')\n",
        "    vk_path = os.path.join(folder, 'test.vk')\n",
        "    proof_path = os.path.join(folder, 'proof.json')\n",
        "\n",
        "    res = damnfair.compile_model(model_path, compiled_model_path, settings_path)\n",
        "    assert res == True\n",
        "\n",
        "    res = damnfair.get_srs(srs_path, settings_path)\n",
        "\n",
        "    res = damnfair.setup(\n",
        "            compiled_model_path,\n",
        "            vk_path,\n",
        "            pk_path,\n",
        "            srs_path,\n",
        "            settings_path,\n",
        "        )\n",
        "\n",
        "\n",
        "    assert res == True\n",
        "    assert os.path.isfile(vk_path)\n",
        "    assert os.path.isfile(pk_path)\n",
        "    assert os.path.isfile(settings_path)\n",
        "\n",
        "    # Generate the Witness for the proof\n",
        "\n",
        "    # now generate the witness file\n",
        "    witness_path = os.path.join(folder, 'witness.json')\n",
        "\n",
        "    res = damnfair.gen_witness(data_path, compiled_model_path, witness_path, settings_path = settings_path)\n",
        "    assert os.path.isfile(witness_path)\n",
        "\n",
        "    # Generate the proof\n",
        "\n",
        "    proof_path = os.path.join('proof.json')\n",
        "\n",
        "    proof = damnfair.prove(\n",
        "            witness_path,\n",
        "            compiled_model_path,\n",
        "            pk_path,\n",
        "            proof_path,\n",
        "            srs_path,\n",
        "            \"evm\",\n",
        "            \"single\",\n",
        "            settings_path,\n",
        "        )\n",
        "\n",
        "    print(proof)\n",
        "    assert os.path.isfile(proof_path)\n",
        "\n",
        "    # verify our proof\n",
        "\n",
        "    res = damnfair.verify(\n",
        "            proof_path,\n",
        "            settings_path,\n",
        "            vk_path,\n",
        "            srs_path,\n",
        "        )\n",
        "\n",
        "    assert res == True\n",
        "    print(\"verified\")\n",
        "\n",
        "    sol_code_path = os.path.join(prefix + '_SVC_verifier.sol')\n",
        "    abi_path = os.path.join(folder, 'Verifier.abi')\n",
        "\n",
        "    res = damnfair.create_evm_verifier(\n",
        "            vk_path,\n",
        "            srs_path,\n",
        "            settings_path,\n",
        "            sol_code_path,\n",
        "            abi_path\n",
        "        )\n",
        "\n",
        "    assert res == True\n",
        "    assert os.path.isfile(sol_code_path)\n",
        "\n",
        "    return proof"
      ],
      "metadata": {
        "id": "mafiolQmkEV2"
      },
      "execution_count": null,
      "outputs": []
    },
    {
      "cell_type": "code",
      "source": [
        "index = 5"
      ],
      "metadata": {
        "id": "DcfN8yk-mQEd"
      },
      "execution_count": null,
      "outputs": []
    },
    {
      "cell_type": "code",
      "source": [
        "model_path = os.path.join(folder, 'network.onnx')\n",
        "settings_path = os.path.join(folder, 'settings.json')\n",
        "data_path = os.path.join(folder, 'input.json')\n",
        "cal_data_path = os.path.join(folder, 'cal_data.json')\n",
        "\n",
        "gen_SVC_setting(SVC_model_comp, x_test_compress, index)\n",
        "# gen_SVC_setting(SVC_model, x_test, index)\n",
        "res = await damnfair.calibrate_settings(data_path, model_path, settings_path, \"resources\")  # Optimize for resources\n",
        "proof = gen_SVC_verifier(str(index))"
      ],
      "metadata": {
        "colab": {
          "base_uri": "https://localhost:8080/"
        },
        "id": "eZZ0TZ1hmBW0",
        "outputId": "e85855a2-17b5-41a9-d309-7afcec92cbca"
      },
      "execution_count": null,
      "outputs": [
        {
          "output_type": "stream",
          "name": "stderr",
          "text": [
            "/usr/local/lib/python3.10/dist-packages/sk2torch/linear_model.py:47: TracerWarning: Converting a tensor to a Python boolean might cause the trace to be incorrect. We can't record the data flow of Python values, so this value will be treated as a constant in the future. This means that the trace might not generalize to other inputs!\n",
            "  if outputs.shape[1] == 1:\n"
          ]
        },
        {
          "output_type": "stream",
          "name": "stdout",
          "text": [
            "{'instances': [[[6425625360762666998, 7924344314350639699, 14762033076929465436, 2023505479389396574], [6425625360762666998, 7924344314350639699, 14762033076929465436, 2023505479389396574], [415066004289224689, 11886516471525959549, 3696305541684646538, 3035258219084094862], [7959790035488735211, 12951774245394433045, 16242874202584236123, 560012691975822483], [7959790035488735211, 12951774245394433045, 16242874202584236123, 560012691975822483], [6425625360762666998, 7924344314350639699, 14762033076929465436, 2023505479389396574], [0, 0, 0, 0], [7959790035488735211, 12951774245394433045, 16242874202584236123, 560012691975822483], [0, 0, 0, 0], [12436184717236109307, 3962172157175319849, 7381016538464732718, 1011752739694698287], [1949230679015292902, 16913946402569752895, 5177146667339417225, 1571765431670520771], [6425625360762666998, 7924344314350639699, 14762033076929465436, 2023505479389396574], [0, 0, 0, 0], [7959790035488735211, 12951774245394433045, 16242874202584236123, 560012691975822483], [0, 0, 0, 0], [0, 0, 0, 0], [1949230679015292902, 16913946402569752895, 5177146667339417225, 1571765431670520771], [6425625360762666998, 7924344314350639699, 14762033076929465436, 2023505479389396574], [6425625360762666998, 7924344314350639699, 14762033076929465436, 2023505479389396574], [7959790035488735211, 12951774245394433045, 16242874202584236123, 560012691975822483], [7959790035488735211, 12951774245394433045, 16242874202584236123, 560012691975822483], [7959790035488735211, 12951774245394433045, 16242874202584236123, 560012691975822483], [1949230679015292902, 16913946402569752895, 5177146667339417225, 1571765431670520771], [7959790035488735211, 12951774245394433045, 16242874202584236123, 560012691975822483], [415066004289224689, 11886516471525959549, 3696305541684646538, 3035258219084094862], [7959790035488735211, 12951774245394433045, 16242874202584236123, 560012691975822483], [1949230679015292902, 16913946402569752895, 5177146667339417225, 1571765431670520771], [415066004289224689, 11886516471525959549, 3696305541684646538, 3035258219084094862], [6425625360762666998, 7924344314350639699, 14762033076929465436, 2023505479389396574], [0, 0, 0, 0], [415066004289224689, 11886516471525959549, 3696305541684646538, 3035258219084094862], [6425625360762666998, 7924344314350639699, 14762033076929465436, 2023505479389396574], [6425625360762666998, 7924344314350639699, 14762033076929465436, 2023505479389396574], [0, 0, 0, 0], [0, 0, 0, 0], [0, 0, 0, 0]], [[12436184717236109307, 3962172157175319849, 7381016538464732718, 1011752739694698287]]], 'proof': '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', 'transcript_type': 'EVM'}\n",
            "verified\n"
          ]
        }
      ]
    },
    {
      "cell_type": "code",
      "source": [
        "onchain_input_array = []\n",
        "for value in proof[\"instances\"]:\n",
        "    for field_element in value:\n",
        "        onchain_input_array.append(damnfair.vecu64_to_int(field_element))\n",
        "print (\"Input:\", onchain_input_array)\n",
        "with open(str(index)+'.json', 'w') as file:\n",
        "   json.dump({'instances': onchain_input_array, 'proof': '0x' + proof['proof']}, file)\n",
        "\n",
        "print (\"Proof:\", '0x' + proof['proof'])"
      ],
      "metadata": {
        "colab": {
          "base_uri": "https://localhost:8080/"
        },
        "id": "Qj1p6Ma4nB4u",
        "outputId": "ca48b702-c46f-4470-c3d7-a22ff3f0efe3"
      },
      "execution_count": null,
      "outputs": [
        {
          "output_type": "stream",
          "name": "stdout",
          "text": [
            "Input: [2, 2, 3, 4, 4, 2, 0, 4, 0, 1, 5, 2, 0, 4, 0, 0, 5, 2, 2, 4, 4, 4, 5, 4, 3, 4, 5, 3, 2, 0, 3, 2, 2, 0, 0, 0, 1]\n",
            "Proof: 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\n"
          ]
        }
      ]
    },
    {
      "cell_type": "code",
      "source": [],
      "metadata": {
        "id": "H5O5_mKGoJqH"
      },
      "execution_count": null,
      "outputs": []
    }
  ],
  "metadata": {
    "colab": {
      "provenance": [],
      "machine_shape": "hm"
    },
    "kernelspec": {
      "display_name": "Python 3",
      "name": "python3"
    },
    "language_info": {
      "codemirror_mode": {
        "name": "ipython",
        "version": 3
      },
      "file_extension": ".py",
      "mimetype": "text/x-python",
      "name": "python",
      "nbconvert_exporter": "python",
      "pygments_lexer": "ipython3",
      "version": "3.9.15"
    }
  },
  "nbformat": 4,
  "nbformat_minor": 0
}